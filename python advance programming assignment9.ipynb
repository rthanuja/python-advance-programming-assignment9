{
 "cells": [
  {
   "cell_type": "code",
   "execution_count": 1,
   "id": "d3bb2321",
   "metadata": {},
   "outputs": [],
   "source": [
    "'''1. YouTube offers different playback speed options for users. This allows users to increase or decrease the speed of\n",
    "the video content. Given the actual duration and playback speed of the video, calculate the playback duration of the video.'''\n",
    "def playback_duration(t,s):\n",
    "    l=t.split(\":\")\n",
    "    m=[]\n",
    "    x=int(l[0])*(60**2)+int(l[1])*60+int(l[2])\n",
    "    g=x/s\n",
    "    if g>=3600:\n",
    "        m.append(str(int(g//3600)))\n",
    "        g=g%3600\n",
    "    else:\n",
    "        m.append(\"00\")\n",
    "    if g<3600:\n",
    "        m.append(str(int(g//60)))\n",
    "        g=g%60\n",
    "    else:\n",
    "        m.append(\"00\")\n",
    "    if g==0:\n",
    "        m.append(\"00\")\n",
    "    else:\n",
    "        m.append(str(int(g)))\n",
    "    return \":\".join(m)\n",
    "        "
   ]
  },
  {
   "cell_type": "code",
   "execution_count": 2,
   "id": "34e80f99",
   "metadata": {},
   "outputs": [
    {
     "data": {
      "text/plain": [
       "'00:15:00'"
      ]
     },
     "execution_count": 2,
     "metadata": {},
     "output_type": "execute_result"
    }
   ],
   "source": [
    "playback_duration(\"00:30:00\",2)"
   ]
  },
  {
   "cell_type": "code",
   "execution_count": 3,
   "id": "3cffcc2c",
   "metadata": {},
   "outputs": [
    {
     "data": {
      "text/plain": [
       "'00:53:20'"
      ]
     },
     "execution_count": 3,
     "metadata": {},
     "output_type": "execute_result"
    }
   ],
   "source": [
    "playback_duration(\"01:20:00\",1.5)"
   ]
  },
  {
   "cell_type": "code",
   "execution_count": 4,
   "id": "f339b75c",
   "metadata": {},
   "outputs": [
    {
     "data": {
      "text/plain": [
       "'102:40:18'"
      ]
     },
     "execution_count": 4,
     "metadata": {},
     "output_type": "execute_result"
    }
   ],
   "source": [
    "playback_duration(\"51:20:09\",0.5)"
   ]
  },
  {
   "cell_type": "code",
   "execution_count": 5,
   "id": "33a951eb",
   "metadata": {},
   "outputs": [],
   "source": [
    "'''2. We needs your help to construct a building which will be a pile of n cubes. The cube at the bottom will have a volume\n",
    "of n^3, the cube above will have volume of (n-1)^3 and so on until the top which will have a volume of 1^3.\n",
    "Given the total volume m of the building, can you find the number of cubes n required for the building?\n",
    "In other words, you have to return an integer n such that:n^3 + (n-1)^3 + ... + 1^3 == m\n",
    "Return None if there is no such number.'''\n",
    "def pile_of_cubes(m):\n",
    "    a=1\n",
    "    b=1\n",
    "    c=-2*(m**(1/2))\n",
    "    n=(-b+(b**2-4*a*c)**(1/2))/(2*a)\n",
    "    t=(-b-(b**2-4*a*c)**(1/2))/(2*a)\n",
    "    if int(n)==n and n>0:\n",
    "        return int(n)\n",
    "    elif t==int(t) and t>0:\n",
    "        return int(t)\n",
    "    else:\n",
    "        return \"None\""
   ]
  },
  {
   "cell_type": "code",
   "execution_count": 6,
   "id": "e8c7ba67",
   "metadata": {},
   "outputs": [
    {
     "data": {
      "text/plain": [
       "45"
      ]
     },
     "execution_count": 6,
     "metadata": {},
     "output_type": "execute_result"
    }
   ],
   "source": [
    "pile_of_cubes(1071225)"
   ]
  },
  {
   "cell_type": "code",
   "execution_count": 7,
   "id": "f50a2f77",
   "metadata": {},
   "outputs": [
    {
     "data": {
      "text/plain": [
       "2022"
      ]
     },
     "execution_count": 7,
     "metadata": {},
     "output_type": "execute_result"
    }
   ],
   "source": [
    "pile_of_cubes(4183059834009)"
   ]
  },
  {
   "cell_type": "code",
   "execution_count": 8,
   "id": "1ac13f1e",
   "metadata": {},
   "outputs": [
    {
     "data": {
      "text/plain": [
       "'None'"
      ]
     },
     "execution_count": 8,
     "metadata": {},
     "output_type": "execute_result"
    }
   ],
   "source": [
    "pile_of_cubes(16)"
   ]
  },
  {
   "cell_type": "code",
   "execution_count": 9,
   "id": "7cb1ca03",
   "metadata": {},
   "outputs": [],
   "source": [
    "'''3. A fulcrum of a list is an integer such that all elements to the left of it and all elements to the right of it sum to\n",
    "the same value. Write a function that finds the fulcrum of a list.'''\n",
    "def fulcrum(l):\n",
    "    for i in range(len(l)):\n",
    "        if sum(l[:i])==sum(l[i+1:]):\n",
    "            return l[i]\n",
    "    return -1"
   ]
  },
  {
   "cell_type": "code",
   "execution_count": 10,
   "id": "4da887b2",
   "metadata": {},
   "outputs": [
    {
     "data": {
      "text/plain": [
       "2"
      ]
     },
     "execution_count": 10,
     "metadata": {},
     "output_type": "execute_result"
    }
   ],
   "source": [
    "fulcrum([3, 1, 5, 2, 4, 6, -1])"
   ]
  },
  {
   "cell_type": "code",
   "execution_count": 11,
   "id": "1081b812",
   "metadata": {},
   "outputs": [
    {
     "data": {
      "text/plain": [
       "4"
      ]
     },
     "execution_count": 11,
     "metadata": {},
     "output_type": "execute_result"
    }
   ],
   "source": [
    "fulcrum([1, 2, 4, 9, 10, -10, -9, 3])"
   ]
  },
  {
   "cell_type": "code",
   "execution_count": 12,
   "id": "7cd10bf6",
   "metadata": {},
   "outputs": [
    {
     "data": {
      "text/plain": [
       "1"
      ]
     },
     "execution_count": 12,
     "metadata": {},
     "output_type": "execute_result"
    }
   ],
   "source": [
    "fulcrum([9, 1, 9])"
   ]
  },
  {
   "cell_type": "code",
   "execution_count": 13,
   "id": "d3290203",
   "metadata": {},
   "outputs": [
    {
     "data": {
      "text/plain": [
       "0"
      ]
     },
     "execution_count": 13,
     "metadata": {},
     "output_type": "execute_result"
    }
   ],
   "source": [
    "fulcrum([7, -1, 0, -1, 1, 1, 2, 3])"
   ]
  },
  {
   "cell_type": "code",
   "execution_count": 14,
   "id": "f9f63735",
   "metadata": {},
   "outputs": [
    {
     "data": {
      "text/plain": [
       "-1"
      ]
     },
     "execution_count": 14,
     "metadata": {},
     "output_type": "execute_result"
    }
   ],
   "source": [
    "fulcrum([8, 8, 8, 8])"
   ]
  },
  {
   "cell_type": "code",
   "execution_count": 15,
   "id": "fd9b7fff",
   "metadata": {},
   "outputs": [],
   "source": [
    "'''4. Given a list of integers representing the color of each sock, determine how many pairs of socks with matching colors \n",
    "there are. For example, there are 7 socks with colors [1, 2, 1, 2, 1, 3, 2]. There is one pair of color 1 and one of\n",
    "color 2. There are three odd socks left, one of each color. The number of pairs is 2.\n",
    "Create a function that returns an integer representing the number of matching pairs of socks that are available.'''\n",
    "def sockmerchant(l):\n",
    "    p=0\n",
    "    for i in set(l):\n",
    "        a=l.count(i)\n",
    "        p+=a//2\n",
    "    return p\n",
    "        "
   ]
  },
  {
   "cell_type": "code",
   "execution_count": 16,
   "id": "44ec5184",
   "metadata": {},
   "outputs": [
    {
     "data": {
      "text/plain": [
       "3"
      ]
     },
     "execution_count": 16,
     "metadata": {},
     "output_type": "execute_result"
    }
   ],
   "source": [
    "sockmerchant([10, 20, 20, 10, 10, 30, 50, 10, 20])"
   ]
  },
  {
   "cell_type": "code",
   "execution_count": 17,
   "id": "39c1c789",
   "metadata": {},
   "outputs": [
    {
     "data": {
      "text/plain": [
       "4"
      ]
     },
     "execution_count": 17,
     "metadata": {},
     "output_type": "execute_result"
    }
   ],
   "source": [
    "sockmerchant([50, 20, 30, 90, 30, 20, 50, 20, 90])"
   ]
  },
  {
   "cell_type": "code",
   "execution_count": 18,
   "id": "93b76819",
   "metadata": {},
   "outputs": [
    {
     "data": {
      "text/plain": [
       "0"
      ]
     },
     "execution_count": 18,
     "metadata": {},
     "output_type": "execute_result"
    }
   ],
   "source": [
    "sockmerchant([])"
   ]
  },
  {
   "cell_type": "code",
   "execution_count": 19,
   "id": "741e04bc",
   "metadata": {},
   "outputs": [],
   "source": [
    "'''5. Create a function that takes a string containing integers as well as other characters and return the sum of the negative\n",
    "integers only.'''\n",
    "import re\n",
    "def negativesum(s):\n",
    "    p=r'-\\d+'\n",
    "    l=re.findall(p,s)\n",
    "    u=0\n",
    "    for i in l:\n",
    "        u+=int(i)\n",
    "    return u"
   ]
  },
  {
   "cell_type": "code",
   "execution_count": 20,
   "id": "948f0a6b",
   "metadata": {},
   "outputs": [
    {
     "data": {
      "text/plain": [
       "-23"
      ]
     },
     "execution_count": 20,
     "metadata": {},
     "output_type": "execute_result"
    }
   ],
   "source": [
    "negativesum(\"-12 13%14&amp;-11\")"
   ]
  },
  {
   "cell_type": "code",
   "execution_count": 21,
   "id": "8883cd98",
   "metadata": {},
   "outputs": [
    {
     "data": {
      "text/plain": [
       "-33"
      ]
     },
     "execution_count": 21,
     "metadata": {},
     "output_type": "execute_result"
    }
   ],
   "source": [
    "negativesum(\"22 13%14&amp;-11-22 13 12\")"
   ]
  }
 ],
 "metadata": {
  "kernelspec": {
   "display_name": "Python 3 (ipykernel)",
   "language": "python",
   "name": "python3"
  },
  "language_info": {
   "codemirror_mode": {
    "name": "ipython",
    "version": 3
   },
   "file_extension": ".py",
   "mimetype": "text/x-python",
   "name": "python",
   "nbconvert_exporter": "python",
   "pygments_lexer": "ipython3",
   "version": "3.10.9"
  }
 },
 "nbformat": 4,
 "nbformat_minor": 5
}
